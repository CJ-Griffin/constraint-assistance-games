{
 "cells": [
  {
   "cell_type": "code",
   "execution_count": 1,
   "outputs": [],
   "source": [
    "import copy\n",
    "from typing import Set\n",
    "\n",
    "import numpy as np\n",
    "\n",
    "from src.formalisms.primitives import State, Action"
   ],
   "metadata": {
    "collapsed": false
   }
  },
  {
   "cell_type": "code",
   "execution_count": 2,
   "outputs": [
    {
     "name": "stdout",
     "output_type": "stream",
     "text": [
      "Entering cplex: view dual_mdp_result_20230310_113816.log for info\n",
      "Exiting cplex\n"
     ]
    }
   ],
   "source": [
    "from src.formalisms.policy import FinitePolicyForFixedCMDP\n",
    "from src.solution_methods.linear_programming.cplex_dual_cmdp_solver import get_policy_solution_to_FiniteCMDP\n",
    "from src.concrete_decision_processes.maze_cmdp import RoseMazeCMDP\n",
    "\n",
    "cmdp = RoseMazeCMDP()\n",
    "given_policy: FinitePolicyForFixedCMDP = get_policy_solution_to_FiniteCMDP(cmdp, True, False)[0]"
   ],
   "metadata": {
    "collapsed": false
   }
  },
  {
   "cell_type": "code",
   "execution_count": 3,
   "outputs": [
    {
     "data": {
      "text/plain": "array([[0.   , 0.   , 0.   , 1.   ],\n       [1.   , 0.   , 0.   , 0.   ],\n       [0.   , 0.686, 0.   , 0.314],\n       [0.   , 0.   , 0.   , 1.   ],\n       [0.   , 0.   , 0.   , 1.   ],\n       [0.   , 0.   , 0.   , 1.   ],\n       [1.   , 0.   , 0.   , 0.   ],\n       [0.   , 1.   , 0.   , 0.   ],\n       [1.   , 0.   , 0.   , 0.   ]])"
     },
     "execution_count": 3,
     "metadata": {},
     "output_type": "execute_result"
    }
   ],
   "source": [
    "given_policy.policy_matrix"
   ],
   "metadata": {
    "collapsed": false
   }
  },
  {
   "cell_type": "markdown",
   "source": [
    "For the sake of testing the algorithm, we're going to make the policy stochastic on states that $\\sigma$ never actually enters."
   ],
   "metadata": {
    "collapsed": false
   }
  },
  {
   "cell_type": "code",
   "execution_count": 4,
   "outputs": [
    {
     "data": {
      "text/plain": "array([[0.   , 0.   , 0.   , 1.   ],\n       [1.   , 0.   , 0.   , 0.   ],\n       [0.   , 0.686, 0.   , 0.314],\n       [0.   , 0.   , 0.   , 1.   ],\n       [0.   , 0.   , 0.   , 1.   ],\n       [0.42 , 0.58 , 0.   , 0.   ],\n       [1.   , 0.   , 0.   , 0.   ],\n       [0.   , 1.   , 0.   , 0.   ],\n       [1.   , 0.   , 0.   , 0.   ]])"
     },
     "execution_count": 4,
     "metadata": {},
     "output_type": "execute_result"
    }
   ],
   "source": [
    "new_policy_matrix = given_policy.policy_matrix.copy()\n",
    "null_row_mask = given_policy.occupancy_measure_matrix.sum(axis=1) == 0.0\n",
    "new_policy_matrix[null_row_mask, :] = 0.0\n",
    "new_policy_matrix[null_row_mask, 0] = 0.42\n",
    "new_policy_matrix[null_row_mask, 1] = 0.58\n",
    "new_policy_matrix"
   ],
   "metadata": {
    "collapsed": false
   }
  },
  {
   "cell_type": "code",
   "execution_count": 5,
   "outputs": [],
   "source": [
    "sigma = FinitePolicyForFixedCMDP.fromPolicyMatrix(cmdp, new_policy_matrix, True)"
   ],
   "metadata": {
    "collapsed": false
   }
  },
  {
   "cell_type": "code",
   "execution_count": 6,
   "outputs": [],
   "source": [
    "def A(policy: FinitePolicyForFixedCMDP, s: State) -> Set[Action]:\n",
    "    return set(a for a in policy.A if policy(s).get_probability(a) > 0.0)"
   ],
   "metadata": {
    "collapsed": false
   }
  },
  {
   "cell_type": "code",
   "execution_count": 7,
   "outputs": [
    {
     "data": {
      "text/plain": "(array([0.   , 0.686, 0.   , 0.314]),\n array([0.   , 0.686, 0.   , 0.314]),\n array([ True, False,  True, False]))"
     },
     "execution_count": 7,
     "metadata": {},
     "output_type": "execute_result"
    }
   ],
   "source": [
    "A(sigma, cmdp.state_list[2])\n",
    "sigma.policy_matrix[2, :], sigma.occupancy_measure_matrix[2, :], np.isclose(sigma.policy_matrix[2, :], 0)"
   ],
   "metadata": {
    "collapsed": false
   }
  },
  {
   "cell_type": "code",
   "execution_count": 8,
   "outputs": [
    {
     "data": {
      "text/plain": "2"
     },
     "execution_count": 8,
     "metadata": {},
     "output_type": "execute_result"
    }
   ],
   "source": [
    "m = sum(len(A(sigma, s)) - 1 for s in cmdp.S)\n",
    "m"
   ],
   "metadata": {
    "collapsed": false
   }
  },
  {
   "cell_type": "code",
   "execution_count": 9,
   "outputs": [
    {
     "name": "stdout",
     "output_type": "stream",
     "text": [
      "[[0.    0.    0.    1.   ]\n",
      " [1.    0.    0.    0.   ]\n",
      " [0.    0.686 0.    0.314]\n",
      " [0.    0.    0.    1.   ]\n",
      " [0.    0.    0.    1.   ]\n",
      " [0.42  0.58  0.    0.   ]\n",
      " [1.    0.    0.    0.   ]\n",
      " [0.    1.    0.    0.   ]\n",
      " [1.    0.    0.    0.   ]]\n"
     ]
    }
   ],
   "source": [
    "def get_phi_1():\n",
    "    phi_1_policy_matrix = sigma.policy_matrix.copy()\n",
    "    is_stochastic_state_mask = ((phi_1_policy_matrix > 0).sum(axis=1) != 1)\n",
    "    states_inds_to_be_split = np.where(is_stochastic_state_mask)[0]\n",
    "    print(phi_1_policy_matrix)\n",
    "    for s_ind in states_inds_to_be_split:\n",
    "        action_probs = phi_1_policy_matrix[s_ind, :]\n",
    "        first_action_ind = np.where(action_probs > 0.0)[0][0]\n",
    "        new_action_probs = np.zeros(cmdp.n_actions)\n",
    "        new_action_probs[first_action_ind] = 1.0\n",
    "        phi_1_policy_matrix[s_ind, :] = new_action_probs\n",
    "\n",
    "    # Check row_stochastic\n",
    "    assert np.allclose(phi_1_policy_matrix.sum(axis=1), 1.0), (phi_1_policy_matrix, phi_1_policy_matrix.sum(axis=1))\n",
    "    # Check deterministic\n",
    "    assert ((phi_1_policy_matrix > 0).sum(axis=1) == 1).all()\n",
    "    return FinitePolicyForFixedCMDP.fromPolicyMatrix(cmdp=cmdp, policy_matrix=phi_1_policy_matrix)\n",
    "\n",
    "\n",
    "phi_1 = get_phi_1()"
   ],
   "metadata": {
    "collapsed": false
   }
  },
  {
   "cell_type": "markdown",
   "source": [
    "# Algorithm 1"
   ],
   "metadata": {
    "collapsed": false
   }
  },
  {
   "cell_type": "markdown",
   "source": [
    "## Inputs"
   ],
   "metadata": {
    "collapsed": false
   }
  },
  {
   "cell_type": "code",
   "execution_count": 10,
   "outputs": [
    {
     "data": {
      "text/plain": "(<src.formalisms.policy.FinitePolicyForFixedCMDP at 0x7fcda80dc250>,\n <src.formalisms.policy.FinitePolicyForFixedCMDP at 0x7fcdf834a490>)"
     },
     "execution_count": 10,
     "metadata": {},
     "output_type": "execute_result"
    }
   ],
   "source": [
    "sigma, phi_1,"
   ],
   "metadata": {
    "collapsed": false
   }
  },
  {
   "cell_type": "markdown",
   "source": [
    "## Initiation"
   ],
   "metadata": {
    "collapsed": false
   }
  },
  {
   "cell_type": "markdown",
   "source": [
    "### Line 1"
   ],
   "metadata": {
    "collapsed": false
   }
  },
  {
   "cell_type": "markdown",
   "source": [
    "$q^{\\sigma}_{\\mu}(x)$"
   ],
   "metadata": {
    "collapsed": false
   }
  },
  {
   "cell_type": "code",
   "execution_count": 11,
   "outputs": [
    {
     "data": {
      "text/plain": "array([0.2826    , 0.40507614, 1.        , 0.500094  , 0.55566   ,\n       0.        , 0.4500846 , 0.6174    , 6.18908526])"
     },
     "execution_count": 11,
     "metadata": {},
     "output_type": "execute_result"
    }
   ],
   "source": [
    "sigma.state_occupancy_measure_vector"
   ],
   "metadata": {
    "collapsed": false
   }
  },
  {
   "cell_type": "markdown",
   "source": [
    "$Q^{\\sigma}_{\\mu}(x, a)$"
   ],
   "metadata": {
    "collapsed": false
   }
  },
  {
   "cell_type": "code",
   "execution_count": 12,
   "outputs": [
    {
     "data": {
      "text/plain": "array([[0.        , 0.        , 0.        , 0.2826    ],\n       [0.40507614, 0.        , 0.        , 0.        ],\n       [0.        , 0.686     , 0.        , 0.314     ],\n       [0.        , 0.        , 0.        , 0.500094  ],\n       [0.        , 0.        , 0.        , 0.55566   ],\n       [0.        , 0.        , 0.        , 0.        ],\n       [0.4500846 , 0.        , 0.        , 0.        ],\n       [0.        , 0.6174    , 0.        , 0.        ],\n       [6.18908526, 0.        , 0.        , 0.        ]])"
     },
     "execution_count": 12,
     "metadata": {},
     "output_type": "execute_result"
    }
   ],
   "source": [
    "sigma.occupancy_measure_matrix"
   ],
   "metadata": {
    "collapsed": false
   }
  },
  {
   "cell_type": "markdown",
   "source": [
    "### Line 2"
   ],
   "metadata": {
    "collapsed": false
   }
  },
  {
   "cell_type": "markdown",
   "source": [
    "$q(x) \\leftarrow q^{\\sigma}(x)$"
   ],
   "metadata": {
    "collapsed": false
   }
  },
  {
   "cell_type": "code",
   "execution_count": 13,
   "outputs": [],
   "source": [
    "q = {\n",
    "    cmdp.state_list[s_ind]: sigma.state_occupancy_measure_vector[s_ind]\n",
    "    for s_ind in range(cmdp.n_states)\n",
    "}"
   ],
   "metadata": {
    "collapsed": false
   }
  },
  {
   "cell_type": "markdown",
   "source": [
    "$A^*(x) \\leftarrow A^{\\sigma}(x)$\n",
    "I'm not really sure how to interpret $A^*$"
   ],
   "metadata": {
    "collapsed": false
   }
  },
  {
   "cell_type": "code",
   "execution_count": 14,
   "outputs": [
    {
     "data": {
      "text/plain": "{XYState(x=0, y=1): {<IntAction(1)>},\n XYState(x=1, y=2): {<IntAction(2)>},\n XYState(x=0, y=0): {<IntAction(0)>, <IntAction(1)>},\n XYState(x=2, y=1): {<IntAction(1)>},\n XYState(x=2, y=0): {<IntAction(1)>},\n XYState(x=1, y=1): {<IntAction(0)>, <IntAction(2)>},\n XYState(x=2, y=2): {<IntAction(2)>},\n XYState(x=1, y=0): {<IntAction(0)>},\n XYState(x=0, y=2): {<IntAction(2)>}}"
     },
     "execution_count": 14,
     "metadata": {},
     "output_type": "execute_result"
    }
   ],
   "source": [
    " A_star = {\n",
    "    s: A(sigma, s)\n",
    "    for s in cmdp.S\n",
    "}\n",
    "A_star"
   ],
   "metadata": {
    "collapsed": false
   }
  },
  {
   "cell_type": "markdown",
   "source": [
    "$\\phi = \\phi^1$"
   ],
   "metadata": {
    "collapsed": false
   }
  },
  {
   "cell_type": "code",
   "execution_count": 15,
   "outputs": [],
   "source": [
    "phi = copy.deepcopy(phi_1)"
   ],
   "metadata": {
    "collapsed": false
   }
  },
  {
   "cell_type": "markdown",
   "source": [
    "$j \\leftarrow 1$"
   ],
   "metadata": {
    "collapsed": false
   }
  },
  {
   "cell_type": "code",
   "execution_count": 16,
   "outputs": [],
   "source": [
    "j = 1"
   ],
   "metadata": {
    "collapsed": false
   }
  },
  {
   "cell_type": "markdown",
   "source": [
    "U is the set of states that $\\sigma$ won't actually visit, but on which $A^*$ has more than one action.\n",
    "$U \\leftarrow \\{ x \\in X \\mid \\   |A^*(x)| > 1, q(x)=0\\}$\n",
    "\n",
    "$V \\leftarrow \\{ x \\in X \\mid \\   |A^*(x)| > 1, q(x)>0\\}$"
   ],
   "metadata": {
    "collapsed": false
   }
  },
  {
   "cell_type": "code",
   "execution_count": 17,
   "outputs": [
    {
     "data": {
      "text/plain": "({XYState(x=1, y=1)}, {XYState(x=0, y=0)})"
     },
     "execution_count": 17,
     "metadata": {},
     "output_type": "execute_result"
    }
   ],
   "source": [
    "def U():\n",
    "    return {\n",
    "        s\n",
    "        for s in cmdp.S\n",
    "        if len(A_star[s]) > 1 and q[s] == 0\n",
    "    }\n",
    "\n",
    "\n",
    "def V():\n",
    "    return {\n",
    "        s\n",
    "        for s in cmdp.S\n",
    "        if len(A_star[s]) > 1 and q[s] > 0\n",
    "    }\n",
    "\n",
    "\n",
    "U(), V()"
   ],
   "metadata": {
    "collapsed": false
   }
  },
  {
   "cell_type": "markdown",
   "source": [
    "$Q(x, a) \\leftarrow Q^{\\sigma}_{\\mu}(x,a)$ for $x \\in V$ and $a\n",
    "\\in A^*(x)$"
   ],
   "metadata": {
    "collapsed": false
   }
  },
  {
   "cell_type": "code",
   "execution_count": 18,
   "outputs": [
    {
     "data": {
      "text/plain": "{(XYState(x=0, y=0), <IntAction(0)>): 0.6859999999999999,\n (XYState(x=0, y=0), <IntAction(1)>): 0.314}"
     },
     "execution_count": 18,
     "metadata": {},
     "output_type": "execute_result"
    }
   ],
   "source": [
    "Q = {\n",
    "    (s, a): sigma.occupancy_measure_matrix[cmdp.state_to_ind_map[s], cmdp.action_to_ind_map[a]]\n",
    "    for s in V()\n",
    "    for a in A_star[s]\n",
    "}\n",
    "Q"
   ],
   "metadata": {
    "collapsed": false
   }
  },
  {
   "cell_type": "code",
   "execution_count": 19,
   "outputs": [],
   "source": [
    "def get_updated_deterministic_policy(\n",
    "        policy: FinitePolicyForFixedCMDP,\n",
    "        s: State,\n",
    "        a: Action\n",
    ") -> FinitePolicyForFixedCMDP:\n",
    "    s_ind = policy.cmdp.state_to_ind_map[s]\n",
    "    a_ind = policy.cmdp.action_to_ind_map[a]\n",
    "    modified_policy_matrix = policy.policy_matrix.copy()\n",
    "    modified_policy_matrix[s_ind, :] = 0.0\n",
    "    modified_policy_matrix[s_ind, a_ind] = 1.0\n",
    "    return FinitePolicyForFixedCMDP.fromPolicyMatrix(policy.cmdp, modified_policy_matrix)\n"
   ],
   "metadata": {
    "collapsed": false
   }
  },
  {
   "cell_type": "code",
   "execution_count": 20,
   "outputs": [
    {
     "name": "stdout",
     "output_type": "stream",
     "text": [
      "{XYState(x=1, y=1)}\n",
      "XYState(x:1, y:1, )\n"
     ]
    }
   ],
   "source": [
    "from src.formalisms.distributions import KroneckerDistribution\n",
    "import random\n",
    "\n",
    "print(U())\n",
    "alphas = [None] * 10\n",
    "phis = [None] * 10\n",
    "phis[1] = phi_1\n",
    "while len(U()) > 0:\n",
    "    z = random.sample(U(), 1)[0]\n",
    "    print(z)\n",
    "    phi_j_of_z = phis[j](z).sample()\n",
    "    potential_new_actions = A_star[z] - {phi_j_of_z}\n",
    "    a = random.sample(potential_new_actions, 1)[0]\n",
    "    alphas[j] = 0\n",
    "    phis[j + 1] = FinitePolicyForFixedCMDP.fromPolicyDict(cmdp, {\n",
    "        s: phis[j](s) if s != z else KroneckerDistribution(a)\n",
    "        for s in cmdp.S\n",
    "    })\n",
    "    A_star[z] = A_star[z] - {phi_j_of_z}\n",
    "    phi = get_updated_deterministic_policy(phi, z, a)\n",
    "    j = j + 1"
   ],
   "metadata": {
    "collapsed": false
   }
  },
  {
   "cell_type": "code",
   "execution_count": 21,
   "outputs": [
    {
     "data": {
      "text/plain": "[None,\n array([[0., 0., 0., 1.],\n        [1., 0., 0., 0.],\n        [0., 1., 0., 0.],\n        [0., 0., 0., 1.],\n        [0., 0., 0., 1.],\n        [1., 0., 0., 0.],\n        [1., 0., 0., 0.],\n        [0., 1., 0., 0.],\n        [1., 0., 0., 0.]]),\n array([[0., 0., 0., 1.],\n        [1., 0., 0., 0.],\n        [0., 1., 0., 0.],\n        [0., 0., 0., 1.],\n        [0., 0., 0., 1.],\n        [0., 1., 0., 0.],\n        [1., 0., 0., 0.],\n        [0., 1., 0., 0.],\n        [1., 0., 0., 0.]]),\n None,\n None,\n None,\n None,\n None,\n None,\n None]"
     },
     "execution_count": 21,
     "metadata": {},
     "output_type": "execute_result"
    }
   ],
   "source": [
    "list(map((lambda item: None if item is None else item.policy_matrix), phis))"
   ],
   "metadata": {
    "collapsed": false
   }
  },
  {
   "cell_type": "code",
   "execution_count": 22,
   "outputs": [
    {
     "data": {
      "text/plain": "array([0.   , 0.686, 0.   , 0.314])"
     },
     "execution_count": 22,
     "metadata": {},
     "output_type": "execute_result"
    }
   ],
   "source": [
    "_s = random.sample(V(), 1)[0]\n",
    "sigma.policy_matrix[cmdp.state_to_ind_map[_s]]"
   ],
   "metadata": {
    "collapsed": false
   }
  },
  {
   "cell_type": "markdown",
   "source": [
    "### Recursive Step"
   ],
   "metadata": {
    "collapsed": false
   }
  },
  {
   "cell_type": "code",
   "execution_count": 23,
   "outputs": [
    {
     "name": "stdout",
     "output_type": "stream",
     "text": [
      "<src.formalisms.policy.FinitePolicyForFixedCMDP object at 0x7fcdf832f990>\n",
      "None\n"
     ]
    },
    {
     "data": {
      "text/plain": "({XYState(x=0, y=0): 0.6859999999999999}, [XYState(x=0, y=0)])"
     },
     "execution_count": 23,
     "metadata": {},
     "output_type": "execute_result"
    }
   ],
   "source": [
    "while len(V()) > 0:\n",
    "    candidate_ajs = {\n",
    "        s: Q[(s, phi.get_deterministic_action(s))] / phi.get_state_occupancy_measure(s)\n",
    "        for s in list(V())\n",
    "    }\n",
    "\n",
    "    alphas[j] = min(candidate_ajs.values())\n",
    "\n",
    "    G = [\n",
    "        s\n",
    "        for s in candidate_ajs.keys()\n",
    "        if candidate_ajs[s] == alphas[j]\n",
    "\n",
    "    ]\n",
    "    k = len(G)\n",
    "    print(phis[j])\n",
    "    print(phis[j+1])\n",
    "    for i in range(1, k+1):\n",
    "        prev_phi = phis[j + i - 1]\n",
    "        s_i = G[i - 1]\n",
    "        action_choice = random.sample(A(sigma, s_i) - {prev_phi.get_deterministic_action(s_i)}, 1)[0]\n",
    "        next_phi = get_updated_deterministic_policy(prev_phi, s_i, action_choice)\n",
    "        phis[j+i] = next_phi\n",
    "\n",
    "    for i in range(1, k-1+1):\n",
    "        alphas[j+i] = 0\n",
    "\n",
    "    for s in G:\n",
    "        A_star[s].remove(phi.get_deterministic_action(s))\n",
    "        phi = get_updated_deterministic_policy(phi, s, phis[j+k].get_deterministic_action(s))\n",
    "\n",
    "    j = j + k\n",
    "    for x in V():\n",
    "        Q[(x, phi.get_deterministic_action(x))] -= alphas[j] * phi.get_occupancy_measure(x, phi.get_deterministic_action(x))\n",
    "\n",
    "candidate_ajs, G"
   ],
   "metadata": {
    "collapsed": false
   }
  },
  {
   "cell_type": "code",
   "execution_count": 24,
   "outputs": [],
   "source": [
    "m = j - 1\n",
    "alphas[m+1] = 1 - sum(alphas[1:m+1])"
   ],
   "metadata": {
    "collapsed": false
   }
  },
  {
   "cell_type": "code",
   "execution_count": 25,
   "outputs": [
    {
     "data": {
      "text/plain": "2"
     },
     "execution_count": 25,
     "metadata": {},
     "output_type": "execute_result"
    }
   ],
   "source": [
    "m"
   ],
   "metadata": {
    "collapsed": false
   }
  },
  {
   "cell_type": "code",
   "execution_count": 26,
   "outputs": [
    {
     "data": {
      "text/plain": "[<src.formalisms.policy.FinitePolicyForFixedCMDP at 0x7fcdf832f990>,\n <src.formalisms.policy.FinitePolicyForFixedCMDP at 0x7fcdf82a6490>]"
     },
     "execution_count": 26,
     "metadata": {},
     "output_type": "execute_result"
    }
   ],
   "source": [
    "phis[2:m+2]"
   ],
   "metadata": {
    "collapsed": false
   }
  },
  {
   "cell_type": "code",
   "execution_count": 27,
   "outputs": [
    {
     "data": {
      "text/plain": "[0, 0.6859999999999999, 0.31400000000000006]"
     },
     "execution_count": 27,
     "metadata": {},
     "output_type": "execute_result"
    }
   ],
   "source": [
    "alphas[1:m+2]"
   ],
   "metadata": {
    "collapsed": false
   }
  },
  {
   "cell_type": "code",
   "execution_count": 29,
   "outputs": [
    {
     "data": {
      "text/plain": "array([[0.        , 0.        , 0.        , 0.2826    ],\n       [0.40507614, 0.        , 0.        , 0.        ],\n       [0.        , 0.686     , 0.        , 0.314     ],\n       [0.        , 0.        , 0.        , 0.500094  ],\n       [0.        , 0.        , 0.        , 0.55566   ],\n       [0.        , 0.        , 0.        , 0.        ],\n       [0.4500846 , 0.        , 0.        , 0.        ],\n       [0.        , 0.6174    , 0.        , 0.        ],\n       [6.18908526, 0.        , 0.        , 0.        ]])"
     },
     "execution_count": 29,
     "metadata": {},
     "output_type": "execute_result"
    }
   ],
   "source": [
    "combined_occ_measures = sum([\n",
    "    alphas[j] * phis[j].occupancy_measure_matrix\n",
    "    for j in range(1, m+2)\n",
    "])\n",
    "combined_occ_measures"
   ],
   "metadata": {
    "collapsed": false
   }
  },
  {
   "cell_type": "code",
   "execution_count": 32,
   "outputs": [],
   "source": [
    "assert np.allclose(combined_occ_measures, sigma.occupancy_measure_matrix)"
   ],
   "metadata": {
    "collapsed": false
   }
  },
  {
   "cell_type": "code",
   "execution_count": null,
   "outputs": [],
   "source": [],
   "metadata": {
    "collapsed": false
   }
  }
 ],
 "metadata": {
  "kernelspec": {
   "display_name": "Python 3",
   "language": "python",
   "name": "python3"
  },
  "language_info": {
   "codemirror_mode": {
    "name": "ipython",
    "version": 2
   },
   "file_extension": ".py",
   "mimetype": "text/x-python",
   "name": "python",
   "nbconvert_exporter": "python",
   "pygments_lexer": "ipython2",
   "version": "2.7.6"
  }
 },
 "nbformat": 4,
 "nbformat_minor": 0
}
