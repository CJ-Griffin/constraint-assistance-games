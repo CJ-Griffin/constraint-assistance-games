{
 "cells": [
  {
   "cell_type": "code",
   "execution_count": 1,
   "outputs": [],
   "source": [
    "from typing import Set\n",
    "\n",
    "import numpy as np\n",
    "\n",
    "from src.formalisms.primitives import State, Action"
   ],
   "metadata": {
    "collapsed": false
   }
  },
  {
   "cell_type": "code",
   "execution_count": 2,
   "outputs": [
    {
     "name": "stdout",
     "output_type": "stream",
     "text": [
      "Entering cplex: view dual_mdp_result_20230307_182830.log for info\n",
      "Exiting cplex\n"
     ]
    }
   ],
   "source": [
    "from src.formalisms.policy import FinitePolicyForFixedCMDP\n",
    "from src.solution_methods.linear_programming.cplex_dual_cmdp_solver import solve_CMDP_for_policy\n",
    "from src.concrete_decision_processes.maze_cmdp import RoseMazeCMDP\n",
    "\n",
    "cmdp = RoseMazeCMDP()\n",
    "sigma: FinitePolicyForFixedCMDP = solve_CMDP_for_policy(cmdp, True, False)[0]"
   ],
   "metadata": {
    "collapsed": false
   }
  },
  {
   "cell_type": "code",
   "execution_count": 3,
   "outputs": [
    {
     "data": {
      "text/plain": "array([[0.   , 0.   , 0.   , 1.   ],\n       [1.   , 0.   , 0.   , 0.   ],\n       [0.   , 0.686, 0.   , 0.314],\n       [0.   , 0.   , 0.   , 1.   ],\n       [0.   , 0.   , 0.   , 1.   ],\n       [0.   , 0.   , 0.   , 1.   ],\n       [1.   , 0.   , 0.   , 0.   ],\n       [0.   , 1.   , 0.   , 0.   ],\n       [1.   , 0.   , 0.   , 0.   ]])"
     },
     "execution_count": 3,
     "metadata": {},
     "output_type": "execute_result"
    }
   ],
   "source": [
    "sigma.policy_matrix"
   ],
   "metadata": {
    "collapsed": false
   }
  },
  {
   "cell_type": "code",
   "execution_count": 4,
   "outputs": [],
   "source": [
    "def A(policy: FinitePolicyForFixedCMDP, s: State) -> Set[Action]:\n",
    "    return set(a for a in policy.A if policy(s).get_probability(a) > 0.0)"
   ],
   "metadata": {
    "collapsed": false
   }
  },
  {
   "cell_type": "code",
   "execution_count": 5,
   "outputs": [
    {
     "data": {
      "text/plain": "(array([0.   , 0.686, 0.   , 0.314]),\n array([0.   , 0.686, 0.   , 0.314]),\n array([ True, False,  True, False]))"
     },
     "execution_count": 5,
     "metadata": {},
     "output_type": "execute_result"
    }
   ],
   "source": [
    "A(sigma, cmdp.state_list[2])\n",
    "sigma.policy_matrix[2, :], sigma.occupancy_measure_matrix[2, :], np.isclose(sigma.policy_matrix[2, :], 0)"
   ],
   "metadata": {
    "collapsed": false
   }
  },
  {
   "cell_type": "code",
   "execution_count": 6,
   "outputs": [
    {
     "data": {
      "text/plain": "1"
     },
     "execution_count": 6,
     "metadata": {},
     "output_type": "execute_result"
    }
   ],
   "source": [
    "m = sum(len(A(sigma, s)) - 1 for s in cmdp.S)\n",
    "m"
   ],
   "metadata": {
    "collapsed": false
   }
  },
  {
   "cell_type": "code",
   "execution_count": 11,
   "outputs": [],
   "source": [
    "def get_phi_1():\n",
    "    phi_1_policy_matrix = sigma.policy_matrix.copy()\n",
    "    is_stochastic_state_mask = ((phi_1_policy_matrix > 0).sum(axis=1) != 1)\n",
    "    states_inds_to_be_split = np.where(is_stochastic_state_mask)\n",
    "    for s_ind in states_inds_to_be_split:\n",
    "        action_probs = phi_1_policy_matrix[s_ind, :]\n",
    "        first_action_ind = np.where(action_probs > 0.0)[0]\n",
    "        new_action_probs = np.zeros(cmdp.n_actions)\n",
    "        new_action_probs[first_action_ind] = 1.0\n",
    "        phi_1_policy_matrix[s_ind, :] = new_action_probs\n",
    "\n",
    "    # Check row_stochastic\n",
    "    assert np.allclose(phi_1_policy_matrix.sum(axis=1), 1.0)\n",
    "    # Check deterministic\n",
    "    assert ((phi_1_policy_matrix > 0).sum(axis=1) == 1).all()\n",
    "    return FinitePolicyForFixedCMDP.fromPolicyMatrix(cmdp=cmdp, policy_matrix=phi_1_policy_matrix)\n",
    "\n",
    "phi_1 = get_phi_1()"
   ],
   "metadata": {
    "collapsed": false
   }
  },
  {
   "cell_type": "markdown",
   "source": [
    "# Algorithm 1"
   ],
   "metadata": {
    "collapsed": false
   }
  },
  {
   "cell_type": "markdown",
   "source": [
    "## Inputs"
   ],
   "metadata": {
    "collapsed": false
   }
  },
  {
   "cell_type": "code",
   "execution_count": 13,
   "outputs": [
    {
     "data": {
      "text/plain": "(<src.formalisms.policy.FinitePolicyForFixedCMDP at 0x7fd650439b10>,\n <src.formalisms.policy.FinitePolicyForFixedCMDP at 0x7fd621490690>)"
     },
     "execution_count": 13,
     "metadata": {},
     "output_type": "execute_result"
    }
   ],
   "source": [
    "sigma, phi_1,"
   ],
   "metadata": {
    "collapsed": false
   }
  },
  {
   "cell_type": "markdown",
   "source": [
    "## Initiation"
   ],
   "metadata": {
    "collapsed": false
   }
  },
  {
   "cell_type": "markdown",
   "source": [
    "### Line 1"
   ],
   "metadata": {
    "collapsed": false
   }
  },
  {
   "cell_type": "markdown",
   "source": [
    "$q^{\\sigma}_{\\mu}(x)$"
   ],
   "metadata": {
    "collapsed": false
   }
  },
  {
   "cell_type": "code",
   "execution_count": 16,
   "outputs": [
    {
     "data": {
      "text/plain": "array([0.2826    , 0.40507614, 1.        , 0.500094  , 0.55566   ,\n       0.        , 0.4500846 , 0.6174    , 6.18908526])"
     },
     "execution_count": 16,
     "metadata": {},
     "output_type": "execute_result"
    }
   ],
   "source": [
    "sigma.state_occupancy_measure_vector"
   ],
   "metadata": {
    "collapsed": false
   }
  },
  {
   "cell_type": "markdown",
   "source": [
    "$Q^{\\sigma}_{\\mu}(x, a)$"
   ],
   "metadata": {
    "collapsed": false
   }
  },
  {
   "cell_type": "code",
   "execution_count": 17,
   "outputs": [
    {
     "data": {
      "text/plain": "array([[0.        , 0.        , 0.        , 0.2826    ],\n       [0.40507614, 0.        , 0.        , 0.        ],\n       [0.        , 0.686     , 0.        , 0.314     ],\n       [0.        , 0.        , 0.        , 0.500094  ],\n       [0.        , 0.        , 0.        , 0.55566   ],\n       [0.        , 0.        , 0.        , 0.        ],\n       [0.4500846 , 0.        , 0.        , 0.        ],\n       [0.        , 0.6174    , 0.        , 0.        ],\n       [6.18908526, 0.        , 0.        , 0.        ]])"
     },
     "execution_count": 17,
     "metadata": {},
     "output_type": "execute_result"
    }
   ],
   "source": [
    "sigma.occupancy_measure_matrix"
   ],
   "metadata": {
    "collapsed": false
   }
  },
  {
   "cell_type": "markdown",
   "source": [
    "### Line 2"
   ],
   "metadata": {
    "collapsed": false
   }
  },
  {
   "cell_type": "markdown",
   "source": [
    "$q(x) \\leftarrow q^{\\sigma}(x)$"
   ],
   "metadata": {
    "collapsed": false
   }
  },
  {
   "cell_type": "code",
   "execution_count": 25,
   "outputs": [],
   "source": [
    "q = {\n",
    "    cmdp.state_list[s_ind]: sigma.state_occupancy_measure_vector[s_ind]\n",
    "    for s_ind in range(cmdp.n_states)\n",
    "}"
   ],
   "metadata": {
    "collapsed": false
   }
  },
  {
   "cell_type": "markdown",
   "source": [
    "$A^*(x) \\leftarrow A^{\\sigma}(x)$"
   ],
   "metadata": {
    "collapsed": false
   }
  },
  {
   "cell_type": "code",
   "execution_count": 26,
   "outputs": [],
   "source": [
    " A_star = {\n",
    "    s: A(sigma, s)\n",
    "    for s in cmdp.S\n",
    "}"
   ],
   "metadata": {
    "collapsed": false
   }
  },
  {
   "cell_type": "markdown",
   "source": [
    "$\\phi = \\phi^1$"
   ],
   "metadata": {
    "collapsed": false
   }
  },
  {
   "cell_type": "markdown",
   "source": [
    "$j \\leftarrow 1$"
   ],
   "metadata": {
    "collapsed": false
   }
  },
  {
   "cell_type": "code",
   "execution_count": 27,
   "outputs": [],
   "source": [
    "j = 1"
   ],
   "metadata": {
    "collapsed": false
   }
  },
  {
   "cell_type": "markdown",
   "source": [
    "$U \\leftarrow \\{ x \\in X \\mid \\   |A^*(x)| > 1, q(x)=0\\}$\n",
    "\n",
    "$V \\leftarrow \\{ x \\in X \\mid \\   |A^*(x)| > 1, q(x)>0\\}$"
   ],
   "metadata": {
    "collapsed": false
   }
  },
  {
   "cell_type": "code",
   "execution_count": 30,
   "outputs": [
    {
     "data": {
      "text/plain": "(set(), {XYState(x=0, y=0)})"
     },
     "execution_count": 30,
     "metadata": {},
     "output_type": "execute_result"
    }
   ],
   "source": [
    "U = {\n",
    "    s\n",
    "    for s in cmdp.S\n",
    "    if len(A_star[s]) > 1 and q[s] == 0\n",
    "}\n",
    "V = {\n",
    "    s\n",
    "    for s in cmdp.S\n",
    "    if len(A_star[s]) > 1 and q[s] > 0\n",
    "}\n",
    "U, V"
   ],
   "metadata": {
    "collapsed": false
   }
  },
  {
   "cell_type": "markdown",
   "source": [
    "$Q(x, a) \\leftarrow Q^{\\sigma}_{\\mu}(x,a)$ for $x \\in V$ and $a\n",
    "\\in A^*(x)$"
   ],
   "metadata": {
    "collapsed": false
   }
  },
  {
   "cell_type": "code",
   "execution_count": 33,
   "outputs": [
    {
     "data": {
      "text/plain": "{(XYState(x=0, y=0), <IntAction(0)>): 0.6859999999999999,\n (XYState(x=0, y=0), <IntAction(1)>): 0.314}"
     },
     "execution_count": 33,
     "metadata": {},
     "output_type": "execute_result"
    }
   ],
   "source": [
    "Q = {\n",
    "    (s, a): sigma.occupancy_measure_matrix[cmdp.state_to_ind_map[s], cmdp.action_to_ind_map[a]]\n",
    "    for s in V\n",
    "    for a in A_star[s]\n",
    "}\n",
    "Q"
   ],
   "metadata": {
    "collapsed": false
   }
  }
 ],
 "metadata": {
  "kernelspec": {
   "display_name": "Python 3",
   "language": "python",
   "name": "python3"
  },
  "language_info": {
   "codemirror_mode": {
    "name": "ipython",
    "version": 2
   },
   "file_extension": ".py",
   "mimetype": "text/x-python",
   "name": "python",
   "nbconvert_exporter": "python",
   "pygments_lexer": "ipython2",
   "version": "2.7.6"
  }
 },
 "nbformat": 4,
 "nbformat_minor": 0
}
