{
 "cells": [
  {
   "cell_type": "code",
   "execution_count": 1,
   "outputs": [],
   "source": [
    "import numpy as np"
   ],
   "metadata": {
    "collapsed": false
   }
  },
  {
   "cell_type": "code",
   "execution_count": 2,
   "outputs": [
    {
     "name": "stdout",
     "output_type": "stream",
     "text": [
      "Entering cplex: view dual_mdp_result_20230307_102157.log for info\n",
      "Exiting cplex\n"
     ]
    }
   ],
   "source": [
    "from src.solution_methods.linear_programming.cplex_dual_cmdp_solver import solve_CMDP_for_occupancy_measures\n",
    "from src.concrete_decision_processes.maze_cmdp import RoseMazeCMDP\n",
    "\n",
    "cmdp = RoseMazeCMDP()\n",
    "constraint_vals, objective_value, occupancy_measures, variable_names = solve_CMDP_for_occupancy_measures(cmdp, True, False)"
   ],
   "metadata": {
    "collapsed": false
   }
  },
  {
   "cell_type": "code",
   "execution_count": 5,
   "outputs": [
    {
     "data": {
      "text/plain": "({'C_0': '0.314 L 0.314'}, 0.68767614)"
     },
     "execution_count": 5,
     "metadata": {},
     "output_type": "execute_result"
    }
   ],
   "source": [
    "constraint_vals, objective_value"
   ],
   "metadata": {
    "collapsed": false
   }
  },
  {
   "cell_type": "code",
   "execution_count": 4,
   "outputs": [
    {
     "data": {
      "text/plain": "[0.0, 0.0, 0.0, 0.2826, 0.40507614]"
     },
     "execution_count": 4,
     "metadata": {},
     "output_type": "execute_result"
    }
   ],
   "source": [
    "occupancy_measures[0:5]"
   ],
   "metadata": {
    "collapsed": false
   }
  },
  {
   "cell_type": "code",
   "execution_count": 5,
   "outputs": [
    {
     "data": {
      "text/plain": "['y(0, 0)', 'y(0, 1)', 'y(0, 2)', 'y(0, 3)', 'y(1, 0)']"
     },
     "execution_count": 5,
     "metadata": {},
     "output_type": "execute_result"
    }
   ],
   "source": [
    "variable_names[0:5]"
   ],
   "metadata": {
    "collapsed": false
   }
  },
  {
   "cell_type": "code",
   "execution_count": 31,
   "outputs": [],
   "source": [
    "variable_names_array = np.array(variable_names)\n",
    "new_shape = (cmdp.n_states, cmdp.n_actions)\n",
    "variable_names_mat = variable_names_array.reshape(new_shape)\n",
    "assert variable_names_mat[2, 3] == 'y(2, 3)'\n",
    "Q_sigma = np.array(occupancy_measures).reshape(new_shape)"
   ],
   "metadata": {
    "collapsed": false
   }
  },
  {
   "cell_type": "code",
   "execution_count": 32,
   "outputs": [],
   "source": [
    "A_star = [\n",
    "    [an for an in range(cmdp.n_actions) if Q_sigma[sn, an] > 0]\n",
    "    for sn in range(cmdp.n_states)\n",
    "]\n",
    "A_star = [\n",
    "    action_list if len(action_list) > 0 else [-1]\n",
    "    for action_list in A_star\n",
    "]"
   ],
   "metadata": {
    "collapsed": false
   }
  },
  {
   "cell_type": "code",
   "execution_count": 33,
   "outputs": [
    {
     "data": {
      "text/plain": "3"
     },
     "execution_count": 33,
     "metadata": {},
     "output_type": "execute_result"
    }
   ],
   "source": [
    "np.random.choice(A_star[0])"
   ],
   "metadata": {
    "collapsed": false
   }
  },
  {
   "cell_type": "code",
   "execution_count": 34,
   "outputs": [],
   "source": [
    "phi_1 = {\n",
    "    sn: np.random.choice(A_star[sn])\n",
    "    for sn in range(cmdp.n_states)\n",
    "}"
   ],
   "metadata": {
    "collapsed": false
   }
  },
  {
   "cell_type": "code",
   "execution_count": 35,
   "outputs": [
    {
     "data": {
      "text/plain": "{0: 3, 1: 0, 2: 0, 3: 3, 4: 3, 5: -1, 6: 0, 7: 1, 8: 0}"
     },
     "execution_count": 35,
     "metadata": {},
     "output_type": "execute_result"
    }
   ],
   "source": [
    "phi_1"
   ],
   "metadata": {
    "collapsed": false
   }
  },
  {
   "cell_type": "code",
   "execution_count": null,
   "outputs": [],
   "source": [
    "Q_phi_1 ="
   ],
   "metadata": {
    "collapsed": false
   }
  }
 ],
 "metadata": {
  "kernelspec": {
   "display_name": "Python 3",
   "language": "python",
   "name": "python3"
  },
  "language_info": {
   "codemirror_mode": {
    "name": "ipython",
    "version": 2
   },
   "file_extension": ".py",
   "mimetype": "text/x-python",
   "name": "python",
   "nbconvert_exporter": "python",
   "pygments_lexer": "ipython2",
   "version": "2.7.6"
  }
 },
 "nbformat": 4,
 "nbformat_minor": 0
}
